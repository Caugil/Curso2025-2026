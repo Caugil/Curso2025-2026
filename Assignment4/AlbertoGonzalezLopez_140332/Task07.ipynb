{
  "cells": [
    {
      "cell_type": "markdown",
      "metadata": {
        "id": "nOOPLCHF7hLB"
      },
      "source": [
        "**Task 07: Querying RDF(s)**"
      ]
    },
    {
      "cell_type": "code",
      "execution_count": 135,
      "metadata": {
        "id": "Yl9npCt8n6m-"
      },
      "outputs": [],
      "source": [
        "#!pip install rdflib\n",
        "import urllib.request\n",
        "url = 'https://raw.githubusercontent.com/FacultadInformatica-LinkedData/Curso2025-2026/refs/heads/master/Assignment4/course_materials/python/validation.py'\n",
        "urllib.request.urlretrieve(url, 'validation.py')\n",
        "github_storage = \"https://raw.githubusercontent.com/FacultadInformatica-LinkedData/Curso2025-2026/master/Assignment4/course_materials\""
      ]
    },
    {
      "cell_type": "code",
      "source": [
        "from validation import Report"
      ],
      "metadata": {
        "id": "FmnGjffDT92V"
      },
      "execution_count": 136,
      "outputs": []
    },
    {
      "cell_type": "markdown",
      "metadata": {
        "id": "XY7aPc86Bqoo"
      },
      "source": [
        "First let's read the RDF file"
      ]
    },
    {
      "cell_type": "code",
      "execution_count": 137,
      "metadata": {
        "id": "9ERh415on7kF"
      },
      "outputs": [],
      "source": [
        "from rdflib import Graph, Namespace, Literal\n",
        "from rdflib.namespace import RDF, RDFS\n",
        "# Do not change the name of the variables\n",
        "g = Graph()\n",
        "g.namespace_manager.bind('ns', Namespace(\"http://somewhere#\"), override=False)\n",
        "g.parse(github_storage+\"/rdf/data06.ttl\", format=\"TTL\")\n",
        "report = Report()"
      ]
    },
    {
      "cell_type": "markdown",
      "metadata": {
        "id": "qp1oe2Eddsvo"
      },
      "source": [
        "**TASK 7.1a: For all classes, list each classURI. If the class belogs to another class, then list its superclass.**\n",
        "**Do the exercise in RDFLib returning a list of Tuples: (class, superclass) called \"result\". If a class does not have a super class, then return None as the superclass**"
      ]
    },
    {
      "cell_type": "code",
      "source": [
        "#TASK 7.1a\n",
        "\n",
        "qres = g.query(\n",
        "    \"\"\"\n",
        "    SELECT ?class ?superclass\n",
        "    WHERE {\n",
        "        ?class a rdfs:Class .\n",
        "        OPTIONAL { ?class rdfs:subClassOf ?superclass . }\n",
        "    }\n",
        "    \"\"\"\n",
        ")\n",
        "\n",
        "# Crear lista de tuplas\n",
        "result = []\n",
        "for row in qres:\n",
        "    result.append((str(row[\"class\"]), str(row[\"superclass\"]) if row[\"superclass\"] else None))\n",
        "\n",
        "# Mostrar resultado\n",
        "\n",
        "for r in result:\n",
        "    print(r)"
      ],
      "metadata": {
        "colab": {
          "base_uri": "https://localhost:8080/"
        },
        "id": "TpI4PWqh7rxP",
        "outputId": "eb73d3af-c1d8-40ca-d061-1e62b9ae3144"
      },
      "execution_count": 138,
      "outputs": [
        {
          "output_type": "stream",
          "name": "stdout",
          "text": [
            "('http://oeg.fi.upm.es/def/people#Person', None)\n",
            "('http://oeg.fi.upm.es/def/people#Animal', None)\n",
            "('http://oeg.fi.upm.es/def/people#Professor', 'http://oeg.fi.upm.es/def/people#Person')\n",
            "('http://oeg.fi.upm.es/def/people#Student', 'http://oeg.fi.upm.es/def/people#Person')\n",
            "('http://oeg.fi.upm.es/def/people#FullProfessor', 'http://oeg.fi.upm.es/def/people#Professor')\n",
            "('http://oeg.fi.upm.es/def/people#AssociateProfessor', 'http://oeg.fi.upm.es/def/people#Professor')\n",
            "('http://oeg.fi.upm.es/def/people#InterimAssociateProfessor', 'http://oeg.fi.upm.es/def/people#AssociateProfessor')\n"
          ]
        }
      ]
    },
    {
      "cell_type": "code",
      "execution_count": 139,
      "metadata": {
        "id": "tRcSWuMHOXBl",
        "colab": {
          "base_uri": "https://localhost:8080/"
        },
        "outputId": "9773f069-8101-437f-a80f-43b5ecb0015b"
      },
      "outputs": [
        {
          "output_type": "stream",
          "name": "stdout",
          "text": [
            "('http://oeg.fi.upm.es/def/people#Person', None)\n",
            "('http://oeg.fi.upm.es/def/people#Animal', None)\n",
            "('http://oeg.fi.upm.es/def/people#Professor', 'http://oeg.fi.upm.es/def/people#Person')\n",
            "('http://oeg.fi.upm.es/def/people#Student', 'http://oeg.fi.upm.es/def/people#Person')\n",
            "('http://oeg.fi.upm.es/def/people#FullProfessor', 'http://oeg.fi.upm.es/def/people#Professor')\n",
            "('http://oeg.fi.upm.es/def/people#AssociateProfessor', 'http://oeg.fi.upm.es/def/people#Professor')\n",
            "('http://oeg.fi.upm.es/def/people#InterimAssociateProfessor', 'http://oeg.fi.upm.es/def/people#AssociateProfessor')\n"
          ]
        }
      ],
      "source": [
        "# Visualize the results\n",
        "#result = [] #list of tuples\n",
        "for r in result:\n",
        "  print(r)"
      ]
    },
    {
      "cell_type": "code",
      "source": [
        "## Validation: Do not remove\n",
        "report.validate_07_1a(result)"
      ],
      "metadata": {
        "id": "uvEpQQrTlMPH",
        "colab": {
          "base_uri": "https://localhost:8080/"
        },
        "outputId": "8bee5bb9-3d72-47c2-d087-a5424c0757d1"
      },
      "execution_count": 140,
      "outputs": [
        {
          "output_type": "stream",
          "name": "stdout",
          "text": [
            "TASK 7.1a OK\n"
          ]
        }
      ]
    },
    {
      "cell_type": "markdown",
      "source": [
        "\\**TASK 7.1b: Repeat the same exercise in SPARQL, returning the variables ?c (class) and ?sc (superclass)**"
      ],
      "metadata": {
        "id": "kbY-jqw6klr9"
      }
    },
    {
      "cell_type": "code",
      "source": [
        "#TASK 7.1b\n",
        "\n",
        "qres = g.query(\n",
        "    \"\"\"\n",
        "    SELECT ?c ?sc\n",
        "    WHERE {\n",
        "        ?c a rdfs:Class .\n",
        "        OPTIONAL { ?c rdfs:subClassOf ?sc . }\n",
        "    }\n",
        "    \"\"\"\n",
        ")\n",
        "\n",
        "# lista de tuplas (class, superclass)\n",
        "result = []\n",
        "for row in qres:\n",
        "    result.append((str(row[\"c\"]), str(row[\"sc\"]) if row[\"sc\"] else None))\n",
        "\n",
        "# Mostrar resultado\n",
        "for r in result:\n",
        "    print(r)"
      ],
      "metadata": {
        "colab": {
          "base_uri": "https://localhost:8080/"
        },
        "id": "tHzVAINi92Jm",
        "outputId": "22e876dc-c246-4c10-d130-369954afa118"
      },
      "execution_count": 141,
      "outputs": [
        {
          "output_type": "stream",
          "name": "stdout",
          "text": [
            "('http://oeg.fi.upm.es/def/people#Person', None)\n",
            "('http://oeg.fi.upm.es/def/people#Animal', None)\n",
            "('http://oeg.fi.upm.es/def/people#Professor', 'http://oeg.fi.upm.es/def/people#Person')\n",
            "('http://oeg.fi.upm.es/def/people#Student', 'http://oeg.fi.upm.es/def/people#Person')\n",
            "('http://oeg.fi.upm.es/def/people#FullProfessor', 'http://oeg.fi.upm.es/def/people#Professor')\n",
            "('http://oeg.fi.upm.es/def/people#AssociateProfessor', 'http://oeg.fi.upm.es/def/people#Professor')\n",
            "('http://oeg.fi.upm.es/def/people#InterimAssociateProfessor', 'http://oeg.fi.upm.es/def/people#AssociateProfessor')\n"
          ]
        }
      ]
    },
    {
      "cell_type": "code",
      "source": [
        "query =  \"\"\"\n",
        "SELECT ?c ?sc\n",
        "WHERE {\n",
        "    ?c a rdfs:Class .\n",
        "    OPTIONAL { ?c rdfs:subClassOf ?sc . }\n",
        "}\n",
        "\"\"\"\n",
        "\n",
        "for r in g.query(query):\n",
        "  print(r.c, r.sc)"
      ],
      "metadata": {
        "id": "NGAG7l9UklMC",
        "colab": {
          "base_uri": "https://localhost:8080/"
        },
        "outputId": "d9e41aa1-396f-47a7-e3ce-ed736314ea16"
      },
      "execution_count": 142,
      "outputs": [
        {
          "output_type": "stream",
          "name": "stdout",
          "text": [
            "http://oeg.fi.upm.es/def/people#Person None\n",
            "http://oeg.fi.upm.es/def/people#Animal None\n",
            "http://oeg.fi.upm.es/def/people#Professor http://oeg.fi.upm.es/def/people#Person\n",
            "http://oeg.fi.upm.es/def/people#Student http://oeg.fi.upm.es/def/people#Person\n",
            "http://oeg.fi.upm.es/def/people#FullProfessor http://oeg.fi.upm.es/def/people#Professor\n",
            "http://oeg.fi.upm.es/def/people#AssociateProfessor http://oeg.fi.upm.es/def/people#Professor\n",
            "http://oeg.fi.upm.es/def/people#InterimAssociateProfessor http://oeg.fi.upm.es/def/people#AssociateProfessor\n"
          ]
        }
      ]
    },
    {
      "cell_type": "code",
      "source": [
        "## Validation: Do not remove\n",
        "report.validate_07_1b(query,g)"
      ],
      "metadata": {
        "id": "9zf4vgVHlKR3",
        "colab": {
          "base_uri": "https://localhost:8080/"
        },
        "outputId": "13cf8b26-9b3c-4061-c01c-cb534a8ddb3d"
      },
      "execution_count": 143,
      "outputs": [
        {
          "output_type": "stream",
          "name": "stdout",
          "text": [
            "TASK 7.1b OK\n"
          ]
        }
      ]
    },
    {
      "cell_type": "markdown",
      "metadata": {
        "id": "gM3DASkTQQ5Y"
      },
      "source": [
        "**TASK 7.2a: List all individuals of \"Person\" with RDFLib (remember the subClasses). Return the individual URIs in a list called \"individuals\"**\n"
      ]
    },
    {
      "cell_type": "code",
      "source": [
        "from rdflib import Graph, Namespace, RDF, RDFS\n",
        "\n",
        "\n",
        "\n",
        "ns = Namespace(\"http://oeg.fi.upm.es/def/people#\")\n",
        "\n",
        "# Función recursiva para obtener todas las subclases de Person\n",
        "def get_all_subclasses(cls, graph):\n",
        "    subclasses = set()\n",
        "    for sub in graph.subjects(RDFS.subClassOf, cls):\n",
        "        subclasses.add(sub)\n",
        "        subclasses.update(get_all_subclasses(sub, graph))\n",
        "    return subclasses\n",
        "\n",
        "# Obtenemos todas las subclases de Person (directas e indirectas)\n",
        "subclasses = get_all_subclasses(ns.Person, g)\n",
        "subclasses.add(ns.Person)\n",
        "\n",
        "# Lista de individuos que son instancias de Person o sus subclases\n",
        "individuals = []\n",
        "for s, o in g.subject_objects(RDF.type):\n",
        "    if o in subclasses:\n",
        "        individuals.append(s)\n",
        "\n",
        "\n",
        "\n",
        "\n"
      ],
      "metadata": {
        "collapsed": true,
        "id": "eiKmYnFI-sHs"
      },
      "execution_count": 144,
      "outputs": []
    },
    {
      "cell_type": "code",
      "execution_count": 145,
      "metadata": {
        "id": "LiKSPHRzS-XJ",
        "colab": {
          "base_uri": "https://localhost:8080/"
        },
        "outputId": "b4072f47-0d86-44f0-8c2a-f5feb6a0f421"
      },
      "outputs": [
        {
          "output_type": "stream",
          "name": "stdout",
          "text": [
            "http://oeg.fi.upm.es/def/people#Asun\n",
            "http://oeg.fi.upm.es/def/people#Oscar\n",
            "http://oeg.fi.upm.es/def/people#Raul\n"
          ]
        }
      ],
      "source": [
        "#ns = Namespace(\"http://oeg.fi.upm.es/def/people#\")\n",
        "\n",
        "# variable to return\n",
        "#individuals = []\n",
        "# visualize results\n",
        "for i in individuals:\n",
        "  print(i)"
      ]
    },
    {
      "cell_type": "code",
      "source": [
        "# validation. Do not remove\n",
        "report.validate_07_02a(individuals)"
      ],
      "metadata": {
        "id": "ONrAls5uiX1G",
        "colab": {
          "base_uri": "https://localhost:8080/"
        },
        "outputId": "d60841f7-44b9-45e8-b4fb-b9d23b0c8e39"
      },
      "execution_count": 146,
      "outputs": [
        {
          "output_type": "stream",
          "name": "stdout",
          "text": [
            "TASK 7.2a OK\n"
          ]
        }
      ]
    },
    {
      "cell_type": "markdown",
      "source": [
        "**TASK 7.2b: Repeat the same exercise in SPARQL, returning the individual URIs in a variable ?ind**"
      ],
      "metadata": {
        "id": "up-952A-za7A"
      }
    },
    {
      "cell_type": "code",
      "source": [
        "query = \"\"\"\n",
        "SELECT ?ind WHERE {\n",
        "  ?class rdfs:subClassOf* <http://oeg.fi.upm.es/def/people#Person> .\n",
        "  ?ind a ?class .\n",
        "}\n",
        "\"\"\"\n",
        "for r in g.query(query):\n",
        "  print(r.ind)\n",
        "# Visualize the results"
      ],
      "metadata": {
        "id": "ipYiEVbTzbR0",
        "colab": {
          "base_uri": "https://localhost:8080/"
        },
        "outputId": "013a2093-9b94-45a1-e096-2edb8b47c714"
      },
      "execution_count": 147,
      "outputs": [
        {
          "output_type": "stream",
          "name": "stdout",
          "text": [
            "http://oeg.fi.upm.es/def/people#Asun\n",
            "http://oeg.fi.upm.es/def/people#Oscar\n",
            "http://oeg.fi.upm.es/def/people#Raul\n"
          ]
        }
      ]
    },
    {
      "cell_type": "code",
      "source": [
        "## Validation: Do not remove\n",
        "report.validate_07_02b(g, query)"
      ],
      "metadata": {
        "id": "s-Hu2LxRjUQt",
        "colab": {
          "base_uri": "https://localhost:8080/"
        },
        "outputId": "15da8a0f-bfa4-4fbd-8add-06f9d515b894"
      },
      "execution_count": 148,
      "outputs": [
        {
          "output_type": "stream",
          "name": "stdout",
          "text": [
            "TASK 7.2b OK\n"
          ]
        }
      ]
    },
    {
      "cell_type": "markdown",
      "source": [
        "\"\"\"**TASK 7.3:  List the name and type of those who know Rocky (in SPARQL only). Use name and type as variables in the query**\"\"\"\n"
      ],
      "metadata": {
        "id": "3NyI7M2VNr9R"
      }
    },
    {
      "cell_type": "code",
      "source": [
        "#TASK 7.3\n",
        "query = \"\"\"\n",
        "PREFIX ns: <http://oeg.fi.upm.es/def/people#>\n",
        "SELECT ?name ?type WHERE {\n",
        "  ?x ns:knows ns:Rocky .\n",
        "  ?x rdfs:label ?name .\n",
        "  ?x rdf:type ?type .\n",
        "}\n",
        "\"\"\"\n",
        "\n",
        "\n",
        "\n",
        "for r in g.query(query):\n",
        "  print(r.name, r.type)\n"
      ],
      "metadata": {
        "colab": {
          "base_uri": "https://localhost:8080/"
        },
        "id": "9VePc2a1MkM8",
        "outputId": "39fb9da5-9f09-467d-d786-cc566824368a"
      },
      "execution_count": 149,
      "outputs": [
        {
          "output_type": "stream",
          "name": "stdout",
          "text": [
            "Asun http://oeg.fi.upm.es/def/people#FullProfessor\n",
            "Raul http://oeg.fi.upm.es/def/people#InterimAssociateProfessor\n",
            "Fantasma http://oeg.fi.upm.es/def/people#Animal\n"
          ]
        }
      ]
    },
    {
      "cell_type": "code",
      "source": [
        "#query =  \"\"\"select\n",
        "#  }\"\"\"\n",
        "# Visualize the results\n",
        "for r in g.query(query):\n",
        "  print(r.name, r.type)\n"
      ],
      "metadata": {
        "id": "I_CNoIKdNpbx",
        "colab": {
          "base_uri": "https://localhost:8080/"
        },
        "outputId": "0d567965-107c-4760-8a7c-d44d23f48030"
      },
      "execution_count": 150,
      "outputs": [
        {
          "output_type": "stream",
          "name": "stdout",
          "text": [
            "Asun http://oeg.fi.upm.es/def/people#FullProfessor\n",
            "Raul http://oeg.fi.upm.es/def/people#InterimAssociateProfessor\n",
            "Fantasma http://oeg.fi.upm.es/def/people#Animal\n"
          ]
        }
      ]
    },
    {
      "cell_type": "code",
      "source": [
        "## Validation: Do not remove\n",
        "report.validate_07_03(g, query)"
      ],
      "metadata": {
        "id": "Zf3JS7tEhS2t",
        "colab": {
          "base_uri": "https://localhost:8080/"
        },
        "outputId": "319da6c7-8b71-4458-ac87-ffb11df392bd"
      },
      "execution_count": 151,
      "outputs": [
        {
          "output_type": "stream",
          "name": "stdout",
          "text": [
            "TASK 7.3 OK\n"
          ]
        }
      ]
    },
    {
      "cell_type": "markdown",
      "source": [
        "**Task 7.4: List the name of those entities who have a colleague with a dog, or that have a collegue who has a colleague who has a dog (in SPARQL). Return the results in a variable called name**"
      ],
      "metadata": {
        "id": "kyjGsyxDPa2C"
      }
    },
    {
      "cell_type": "code",
      "source": [
        "query = \"\"\"\n",
        "PREFIX ns: <http://oeg.fi.upm.es/def/people#>\n",
        "PREFIX rdfs: <http://www.w3.org/2000/01/rdf-schema#>\n",
        "\n",
        "SELECT DISTINCT ?name WHERE {\n",
        "  {\n",
        "    ?person ns:hasColleague ?colleague .\n",
        "    ?colleague ns:ownsPet ?pet .\n",
        "    ?pet rdf:type ns:Dog .\n",
        "    ?person ns:name ?name .\n",
        "  }\n",
        "  UNION\n",
        "  {\n",
        "    ?person ns:hasColleague ?colleague .\n",
        "    ?colleague1 ns:hasColleague ?colleague2 .\n",
        "    ?colleague2 ns:ownsPet ?pet .\n",
        "    ?pet a ns:Animal .\n",
        "  }\n",
        "  ?person rdfs:label ?name .\n",
        "}\n",
        "\n",
        "\n",
        "\"\"\"\n",
        "\n",
        "# Ejecutamos la consulta\n",
        "results = g.query(query)\n",
        "\n",
        "# Mostramos los resultados\n",
        "print(\"Entidades con colegas (directos o indirectos) que tienen perros:\")\n",
        "for row in results:\n",
        "    print(\" -\", row.name)\n"
      ],
      "metadata": {
        "id": "yoVwVZUAPaLm",
        "colab": {
          "base_uri": "https://localhost:8080/"
        },
        "collapsed": true,
        "outputId": "1a95fe6a-2bb3-492a-f795-cde39ced0692"
      },
      "execution_count": 152,
      "outputs": [
        {
          "output_type": "stream",
          "name": "stdout",
          "text": [
            "Entidades con colegas (directos o indirectos) que tienen perros:\n",
            " - Asun\n",
            " - Oscar\n",
            " - Raul\n"
          ]
        }
      ]
    },
    {
      "cell_type": "code",
      "source": [
        "## Validation: Do not remove\n",
        "report.validate_07_04(g,query)\n",
        "report.save_report(\"_Task_07\")"
      ],
      "metadata": {
        "id": "zcTZE7ngj2fc",
        "colab": {
          "base_uri": "https://localhost:8080/"
        },
        "outputId": "ec7ea420-4b96-4802-e6f0-96a41b604ffa"
      },
      "execution_count": 153,
      "outputs": [
        {
          "output_type": "stream",
          "name": "stdout",
          "text": [
            "TASK 7.4 OK\n"
          ]
        }
      ]
    }
  ],
  "metadata": {
    "colab": {
      "provenance": []
    },
    "kernelspec": {
      "display_name": "Python 3 (ipykernel)",
      "language": "python",
      "name": "python3"
    },
    "language_info": {
      "codemirror_mode": {
        "name": "ipython",
        "version": 3
      },
      "file_extension": ".py",
      "mimetype": "text/x-python",
      "name": "python",
      "nbconvert_exporter": "python",
      "pygments_lexer": "ipython3",
      "version": "3.9.5"
    }
  },
  "nbformat": 4,
  "nbformat_minor": 0
}